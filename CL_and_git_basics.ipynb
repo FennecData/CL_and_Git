{
 "cells": [
  {
   "cell_type": "markdown",
   "metadata": {},
   "source": [
    "Create a lesson plan.\n",
    "Post the Lesson plan on GitHub using command line.  \n",
    "Share the lesson with the class on Github.\n",
    "Have students clone down the lesson so they can have it open with them."
   ]
  },
  {
   "cell_type": "markdown",
   "metadata": {},
   "source": [
    "# ![](https://ga-dash.s3.amazonaws.com/production/assets/logo-9f88ae6c9c3871690e33280fcf557f33.png) Intro to Command Line, Git, GitHub and JupyterHub\n",
    "Week 0 | Lesson 0.1\n",
    "\n",
    "### LEARNING OBJECTIVES\n",
    "*After this lesson, you will be able to:*\n",
    "- Practice Python in the JupyterHub environment.\n",
    "- Interact with your JupyterHub server as well as person machine via the Command Line Interface (Terminal)\n",
    "- Explain the uses of Git and GitHub\n",
    "- Utilize Git and GitHub as a means of 'Version Control' (work saving)\n",
    "- Utilize Slack application for communication\n",
    "\n",
    "### STUDENT PRE-WORK\n",
    "*Before this lesson, you should already be able to:*\n",
    "- Log in to [GitHub](https://github.com/)\n",
    "\n",
    "\n",
    "### LESSON GUIDE\n",
    "| TIMING  | TYPE  | TOPIC  |\n",
    "|:-:|---|---|\n",
    "| 10 min  | [Introduction](#introduction)   | for and while loops  |\n",
    "| 25 min  | [Demo / Guided Practice](#demo)  | for loops  |\n",
    "| 25 min  | [Demo / Guided Practice](#demo)  | while loops  |\n",
    "| 25 min  | [Independent Practice](#ind-practice)  |   |\n",
    "| 5 min  | [Conclusion](#conclusion)  |  |\n",
    "\n",
    "#### Today we will be discussing some of the basic tools we will be using throughout this course.\n",
    "- **JupyterHub**\n",
    "    - A stable and uniform micro-environment hosted by your instructor.\n",
    "    - We will use JupyterHub to introduce you to some of the tools we use of the first few weeks.\n",
    "    - Uses [Docker](https://www.docker.com/), [Google Cloud Platform](https://cloud.google.com/) and [Kubernetes](https://kubernetes.io/)\n",
    "    \n",
    "- **Command Line**\n",
    "    - The Command Line is a means of interacting with your computer with commands as opposed to clicking on things with your mouse.\n",
    "    - Mac's have an application called \"Terminal\", which is a command line shell.  You can thing of shells as a window or a portal that you access the command line through.\n",
    "    \n",
    "- **Git**\n",
    "    - First things first: Git is NOT GitHub...\n",
    "    - Git is a version control language.\n",
    "    - Git allows us to save entire folders and file systems and revert them to previous stages.  \n",
    "    \n",
    "- **GitHub**\n",
    "    - GitHub is a public application for saving and hosting your folders remotely that uses the Git langauage.\n",
    "    - Think of it as somewhat of a Google Drive for programming. (In that its a cloud service, not that its associated with your email.)\n",
    "    \n",
    "- **Slack**\n",
    "    - Skype, but for Business and free.\n",
    "    - Still just as reasource unfriendly.  \n",
    "    - We will often use slack not only as a means of message communication, but also for polls, questions and other exercise based interactions durring lessons.\n",
    "\n",
    "\n",
    "\n",
    "#### Maybe the best way to introduce these tools is to walk through a use-case example.\n",
    "This lesson is going to seem like a mobius strip of concepts, but I will be walking through how I created the lesson using resources available on JupyterHub and moved it to a [public website](https://github.com/samuel-stack) via Git and GitHub.  After that we will download the lesson to our own JupyterHub VMs so you can have your own copy.  "
   ]
  },
  {
   "cell_type": "markdown",
   "metadata": {},
   "source": [
    "---\n",
    "### Step One: I logged into our JupyterHub server and created a new notebook.\n",
    "\n",
    "**Complete the following**\n",
    "- Go to http://35.199.176.5/ \n",
    "- Log in with your GitHub account.  \n",
    "    - Authorize myself to have a level of access to your account.  This is because this server is run through my GitHub account. \n",
    "    \n",
    "When you log in you should see something like the below\n",
    "[](url to Ipython notebook image)"
   ]
  },
  {
   "cell_type": "markdown",
   "metadata": {},
   "source": [
    "---\n",
    "### Step Two: I use the command line to create a folder and move my project into it.\n",
    "\n",
    "- Within my JupyterHub I opened up my Command line tool and used the command line interface in order to interact with the server.  I only used a couple very basic commands.\n",
    "\n",
    "```bash\n",
    "# make a directory called \"CL_and_Git_Basics\" .  Pretty much a folder.\n",
    "mkdir CL_and_Git_Basics\n",
    "\n",
    "# Move the file into the new directory (folder)\n",
    "mv Command_Line-and-Git_GitHub_Basics.ipynb CL_and_Git_Basics/CL_and_git_basics.ipynb\n",
    "```"
   ]
  },
  {
   "cell_type": "markdown",
   "metadata": {},
   "source": [
    "---\n",
    "### Step Three: I converted the Directory into a Git repository\n",
    "\n",
    "Git is a version control language.  We're all aware of the floppy disk icon to save items manually, but Git allows us to save (so to speak) via interaction with the command line and a language.  \n",
    "- Alot of times in applications with save options there is the ability to revert on changes such as \"undo\", \"load a previous save\".  Git is essentually a language that allows us to do that.\n",
    "\n",
    "\n",
    "For this example I am using git as a means to save file to a public, remote location so that you all can access it.\n",
    "\n",
    "```bash\n",
    "# moved(changed directories) myself into the `CL_and_Git_Basics` folder.\n",
    "cd CL_and_Git_Basics\n",
    "\n",
    "# Initialized the repository as a git repository.\n",
    "git init\n",
    "\n",
    "# Now that its a git repo and Git can track actions on it.\n",
    "git status\n",
    "Untracked files:\n",
    "  (use \"git add <file>...\" to include in what will be committed)\n",
    "\n",
    "        .ipynb_checkpoints/\n",
    "        CL_and_git_basics.ipynb\n",
    "```        \n",
    "**This is basically stating that \"Hey, I see you have some files there that I have not not started creating save points for\"**\n",
    "\n",
    "```bash\n",
    "# add all the files to the list you are tracking Git (or record the updates to the files you have already been tracking)\n",
    "git add .\n",
    "\n",
    "# commit to your memory what the files look like at this point in time\n",
    "git commit -m 'initial commit'\n",
    "```\n",
    "\n"
   ]
  },
  {
   "cell_type": "markdown",
   "metadata": {
    "collapsed": true
   },
   "source": [
    "**This is cool and dandy, but wouldn't it be great to get a copy of this information off of this server?**\n",
    "\n",
    "### Step 4:  Copied(uploaded) the repository to my GitHub.\n",
    "\n",
    "- On my GitHub account I created a place holder repository that I will populate with the contents of the `CL_and_Git_Basics` folder using `git`.\n",
    "> When creating a repository on GitHub make sure you initialize the repository with a `readme.md` file (its a check box option).\n",
    "\n",
    "- Using the command line I set the default location for this Git repository to communicate to on GitHub.\n",
    "```bash\n",
    "git remote add origin https://github.com/samuel-stack/CL_and_Git.git\n",
    "```\n",
    "> This url can be found by going into the GitHub repository and clicking the green \"clone or download\" button.\n",
    "\n",
    "- I verified the GitHub location after.\n",
    "```bash\n",
    "git remote -v\n",
    ">>> origin  https://github.com/samuel-stack/CL_and_Git.git (fetch)\n",
    ">>> origin  https://github.com/samuel-stack/CL_and_Git.git (push)\n",
    "```\n"
   ]
  },
  {
   "cell_type": "code",
   "execution_count": null,
   "metadata": {
    "collapsed": true
   },
   "outputs": [],
   "source": []
  }
 ],
 "metadata": {
  "kernelspec": {
   "display_name": "Python 3",
   "language": "python",
   "name": "python3"
  },
  "language_info": {
   "codemirror_mode": {
    "name": "ipython",
    "version": 3
   },
   "file_extension": ".py",
   "mimetype": "text/x-python",
   "name": "python",
   "nbconvert_exporter": "python",
   "pygments_lexer": "ipython3",
   "version": "3.6.2"
  }
 },
 "nbformat": 4,
 "nbformat_minor": 2
}
