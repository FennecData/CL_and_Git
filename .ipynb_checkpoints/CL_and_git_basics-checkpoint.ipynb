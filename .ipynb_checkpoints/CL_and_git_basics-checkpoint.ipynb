{
 "cells": [
  {
   "cell_type": "markdown",
   "metadata": {},
   "source": [
    "Create a lesson plan.\n",
    "Post the Lesson plan on GitHub using command line.  \n",
    "Share the lesson with the class on Github.\n",
    "Have students clone down the lesson so they can have it open with them."
   ]
  },
  {
   "cell_type": "markdown",
   "metadata": {},
   "source": [
    "Hello, This lesson is going to seem like a mobius strip of concepts.  I'll start off with going over how I made the lesson and how it got to where it is right now (Should be [My GitHub](https://github.com/samuel-stack) ).\n",
    "\n",
    "### Step One: I logged into our JupyterHub server and created a new notebook.\n",
    "\n",
    "- Go to http://35.199.176.5/ \n",
    "- Log in with your GitHub account.  \n",
    "    - Authorize myself to have a level of access to your account.  This is because this server is run through my GitHub account. \n",
    "    \n",
    "When you log in you should see something like the below\n",
    "[](url to Ipython notebook image)"
   ]
  },
  {
   "cell_type": "markdown",
   "metadata": {},
   "source": [
    "### Step two: I use the command line to create a folder and move my project into it.\n",
    "- Within my JupyterHub I opened up my"
   ]
  }
 ],
 "metadata": {
  "kernelspec": {
   "display_name": "Python 3",
   "language": "python",
   "name": "python3"
  },
  "language_info": {
   "codemirror_mode": {
    "name": "ipython",
    "version": 3
   },
   "file_extension": ".py",
   "mimetype": "text/x-python",
   "name": "python",
   "nbconvert_exporter": "python",
   "pygments_lexer": "ipython3",
   "version": "3.6.2"
  }
 },
 "nbformat": 4,
 "nbformat_minor": 2
}
